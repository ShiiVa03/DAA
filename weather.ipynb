{
 "cells": [
  {
   "cell_type": "code",
   "execution_count": null,
   "metadata": {},
   "outputs": [],
   "source": [
    "import sklearn as sk\n",
    "import pandas as pd\n",
    "import numpy as np\n",
    "import matplotlib.pyplot as plt\n",
    "import seaborn as sns\n",
    "from sklearn import preprocessing\n"
   ]
  },
  {
   "cell_type": "code",
   "execution_count": null,
   "metadata": {},
   "outputs": [],
   "source": [
    "'''\n",
    "Load dataset\n",
    "'''\n",
    "dt = pd.read_csv('central_west.csv')"
   ]
  },
  {
   "cell_type": "code",
   "execution_count": null,
   "metadata": {},
   "outputs": [],
   "source": [
    "'''\n",
    "Basic info about the dataset\n",
    "'''\n",
    "\n",
    "print(dt.shape)\n",
    "dt.info()\n",
    "dt.head()"
   ]
  },
  {
   "cell_type": "markdown",
   "metadata": {},
   "source": [
    "Como podemos ver através do comando *shape* o *dataset* possui 11427120 linhas e 27 atributos.\n",
    "Os atributos são todos do tipo numérico exceto os atributos \"Data\" e \"Hora\" que são do tipo String, e também os atributos \"region\",\"state\",\"station\" e \"station_code\".\n",
    "\n",
    "Numa primeira análise podemos logo converter os atributos \"Data\" e \"Hora\" para objetos do tipo DateTime uma vez que irão providenciar mais informação ao modelo e serão mais fáceis de manipular para a exploração de dados.\n",
    "Podemos tambem retirar a coluna \"Index\" uma vez que não é relevante para o problema e também a coluna \"station\" porque já temos o código correspondente.\n"
   ]
  },
  {
   "cell_type": "code",
   "execution_count": null,
   "metadata": {},
   "outputs": [],
   "source": [
    "dt['DataTime']= pd.to_datetime(dt['Data'] + dt['Hora'], format='%Y-%m-%d%H:%M')\n",
    "dt.set_index('DataTime',inplace=True)"
   ]
  },
  {
   "cell_type": "code",
   "execution_count": null,
   "metadata": {},
   "outputs": [],
   "source": [
    "dt['region'].value_counts(normalize=True)"
   ]
  },
  {
   "cell_type": "markdown",
   "metadata": {},
   "source": [
    "Uma vez que o *dataset* corresponde a apenas uma região podemos também retirar a coluna *region* do mesmo."
   ]
  },
  {
   "cell_type": "code",
   "execution_count": null,
   "metadata": {},
   "outputs": [],
   "source": [
    "dt.drop([\"index\",\"station\",\"region\",\"Hora\",\"Data\"],axis=1,inplace=True)"
   ]
  },
  {
   "cell_type": "code",
   "execution_count": null,
   "metadata": {},
   "outputs": [],
   "source": [
    "columns_renamed = {\n",
    "    'PRECIPITAÇÃO TOTAL, HORÁRIO (mm)' : 'pth',\n",
    "    'PRESSAO ATMOSFERICA AO NIVEL DA ESTACAO, HORARIA (mB)' : 'pah',\n",
    "    'PRESSÃO ATMOSFERICA MAX.NA HORA ANT. (AUT) (mB)' : 'pahmax',\n",
    "    'PRESSÃO ATMOSFERICA MIN. NA HORA ANT. (AUT) (mB)' : 'pahmin',\n",
    "    'RADIACAO GLOBAL (Kj/m²)' : 'rad',\n",
    "    'TEMPERATURA DO AR - BULBO SECO, HORARIA (°C)' : 'dewh',\n",
    "    'TEMPERATURA DO PONTO DE ORVALHO (°C)' : 'dew',\n",
    "    'TEMPERATURA MÁXIMA NA HORA ANT. (AUT) (°C)' : 'tempmax',\n",
    "    'TEMPERATURA MÍNIMA NA HORA ANT. (AUT) (°C)' : 'tempmin',\n",
    "    'TEMPERATURA ORVALHO MAX. NA HORA ANT. (AUT) (°C)' : 'dewmax',\n",
    "    'TEMPERATURA ORVALHO MIN. NA HORA ANT. (AUT) (°C)' : 'dewmin',\n",
    "    'UMIDADE REL. MAX. NA HORA ANT. (AUT) (%)' : 'hummax',\n",
    "    'UMIDADE REL. MIN. NA HORA ANT. (AUT) (%)' : 'hummin',\n",
    "    'UMIDADE RELATIVA DO AR, HORARIA (%)' : 'hum',\n",
    "    'VENTO, DIREÇÃO HORARIA (gr) (° (gr))' : 'windgra',\n",
    "    'VENTO, RAJADA MAXIMA (m/s)' : 'windmax',\n",
    "    'VENTO, VELOCIDADE HORARIA (m/s)' : 'wind',\n",
    "}\n",
    "dt.rename(columns=columns_renamed, inplace=True)"
   ]
  },
  {
   "cell_type": "code",
   "execution_count": null,
   "metadata": {},
   "outputs": [],
   "source": [
    "pd.set_option('display.max_columns', None)\n",
    "dt.head()"
   ]
  },
  {
   "cell_type": "markdown",
   "metadata": {},
   "source": [
    "Após a análise do *dataset* reparamos que o valor mínimo para os atributos era -9999 o que possivelmente indica *outliers*. \n",
    "\n",
    "Porém, não existem valores nulos nem NA, o que indica que estes valores são então considerados os valores que não foram medidos.\n",
    "\n",
    "Deste modo, temos de os analisar para perceber se devemos retirar estes valores ou realizar outras operações.\n"
   ]
  },
  {
   "cell_type": "code",
   "execution_count": null,
   "metadata": {},
   "outputs": [],
   "source": [
    "'''\n",
    "Basic data exploration\n",
    "'''\n",
    "\n",
    "dt.isna().sum()"
   ]
  },
  {
   "cell_type": "code",
   "execution_count": null,
   "metadata": {},
   "outputs": [],
   "source": [
    "dt.replace(-9999.0, np.NaN, inplace=True)"
   ]
  },
  {
   "cell_type": "code",
   "execution_count": null,
   "metadata": {},
   "outputs": [],
   "source": [
    "dt.describe()"
   ]
  },
  {
   "cell_type": "code",
   "execution_count": null,
   "metadata": {},
   "outputs": [],
   "source": [
    "dt.isna().sum()"
   ]
  },
  {
   "cell_type": "markdown",
   "metadata": {},
   "source": [
    "Como podemos observar, existem vários valores NaN o que necessita que façamos uma análise aos resultados para perceber se são valores pontuais que não foram lidos ou se fazem parte do \"problema\".\n",
    "Para esse efeito, vamos primeiramente analisar os valores em falta por cada estação.\n"
   ]
  },
  {
   "cell_type": "markdown",
   "metadata": {},
   "source": [
    "Para tentarmos analisar melhor a situação vamos centrar a atenção numa estação para percebermos os dados em falta."
   ]
  },
  {
   "cell_type": "code",
   "execution_count": null,
   "metadata": {},
   "outputs": [],
   "source": [
    "station_analysis_003 = dt.loc[dt['station_code'] == 'A003']\n",
    "\n",
    "station_analysis_003.plot(y = 'dewh')\n",
    "\n"
   ]
  },
  {
   "cell_type": "markdown",
   "metadata": {},
   "source": [
    "Através da visualização do plot conseguimos perceber que existem vários dados em falta na estação *A003*, que podem ser explicados pelo sensor de deteção se ter avariado.\n",
    "\n",
    "Vamos tentar analisar uma estação com menos falhas e numa janela temporal mais reduzida. Iremos analisar as labels mais interessantes para o caso em estudo, ou seja, a temperatura, a humidade, a precipitação e a radiação."
   ]
  },
  {
   "cell_type": "code",
   "execution_count": null,
   "metadata": {},
   "outputs": [],
   "source": [
    "station_analysis_004 = dt.loc[dt['station_code'] == 'A027']\n",
    "\n",
    "station_analysis_004_2weeks = station_analysis_004.loc[(station_analysis_004.index > '2016-03-01') & (station_analysis_004.index< '2016-03-10')]\n",
    "\n",
    "station_analysis_004_2weeks.plot(y = 'dewh')\n",
    "station_analysis_004_2weeks.plot(y = 'hum')\n",
    "station_analysis_004_2weeks.plot(y = 'pth')\n",
    "station_analysis_004_2weeks.plot(y = 'rad')"
   ]
  },
  {
   "cell_type": "markdown",
   "metadata": {},
   "source": []
  },
  {
   "cell_type": "code",
   "execution_count": null,
   "metadata": {},
   "outputs": [],
   "source": [
    "st_004_temp = station_analysis_004['dewh']\n",
    "st_004_temp.interpolate('linear', inplace=True, limit_direction='both')\n",
    "\n",
    "st_004_temp[(st_004_temp.index > '2016-03-01') & (st_004_temp.index< '2016-03-10')].plot(y = 'dewh', figsize=(10,10))"
   ]
  },
  {
   "cell_type": "markdown",
   "metadata": {},
   "source": [
    "Ao extrapolarmos a análise para um ano, podemos ver que a nível de temperatura os valores já estão normalizados e temos uma distribuição mais favorável ao modelo que vamos treinar.\n",
    "\n",
    "Basta então realizar o mesmo processo de extrapolação para todos os atributos menos para os atributos \"pth\" e \"rad\" porque são reportados valores NaN quando deviam ser 0.\n"
   ]
  },
  {
   "cell_type": "code",
   "execution_count": null,
   "metadata": {},
   "outputs": [],
   "source": [
    "station_analysis_004['pth'].fillna(0,inplace=True)\n",
    "station_analysis_004['rad'].fillna(0,inplace=True)\n",
    "station_analysis_004.index = pd.to_datetime(station_analysis_004.index)\n",
    "station_analysis_004['mo'] = station_analysis_004.index.month\n",
    "total_rain_004 = station_analysis_004.groupby('mo').mean().reset_index()\n",
    "total_rain_004.plot(x='mo',y='pth',kind='bar')"
   ]
  },
  {
   "cell_type": "code",
   "execution_count": null,
   "metadata": {},
   "outputs": [],
   "source": [
    "columns = ['pth','pah','pahmax','pahmin','rad','dewh','dew','tempmax','tempmin','dewmax','dewmin','hummax','hummin','hum','windgra','windmax','wind','latitude','height']"
   ]
  },
  {
   "cell_type": "code",
   "execution_count": null,
   "metadata": {},
   "outputs": [],
   "source": [
    "\n",
    "station_analysis_004 = station_analysis_004[(station_analysis_004[columns] != 0).any(axis=1)]\n",
    "station_analysis_004[columns] = station_analysis_004[columns].interpolate(method='linear')\n",
    "station_analysis_004.isna().sum()\n",
    "\n",
    "\n"
   ]
  },
  {
   "cell_type": "code",
   "execution_count": null,
   "metadata": {},
   "outputs": [],
   "source": [
    "station_analysis_004[(station_analysis_004.index > '2020-04-01') & (station_analysis_004.index < '2020-04-10')][['dew','wind','hum']].plot(figsize=(10,20))"
   ]
  },
  {
   "cell_type": "code",
   "execution_count": null,
   "metadata": {},
   "outputs": [],
   "source": [
    "station_analysis = dt.loc[dt['station_code'] == 'A003']\n",
    "station_analysis = station_analysis.set_index('Data') \n",
    "\n",
    "columns_st = station_analysis.select_dtypes('number').columns.tolist()\n",
    "columns_st = [e for e in columns_st if e not in ('Hora','latitude','longitude','height')]\n",
    "\n",
    "fig, axs = plt.subplots(nrows=len(columns_st), ncols = 1, figsize=(40, 30))\n",
    "\n",
    "for ax,col_name in zip(axs, columns_st):\n",
    "    ax.plot(station_analysis[col_name][:])\n",
    "    ax.set(ylabel=col_name)\n",
    "    ax.set_title([k for k, v in columns_renamed.items() if v == col_name][0])\n",
    "    \n",
    "fig.tight_layout(pad=1.0)\n",
    "plt.show()\n",
    "\n"
   ]
  },
  {
   "cell_type": "markdown",
   "metadata": {},
   "source": [
    "# Limpar o dataset inteiro\n",
    "\n",
    "Após termos analisado ao detalhe uma estação completa, percebemos como os dados estão organizados e pudemos entender o significado dos NaN values que encontramos.\n",
    "\n",
    "Deste modo, podemos extrapolar os resultados e intervenções que fizemos a apenas uma estação para todas as estações, ou seja, os valores de precipitação e radição a NaN devem ser colocados a 0 porque são indicativos de que o sensor não conseguir detetar porque não estavam presentes, enquanto que os outros valores em falta se devem ao facto de falhas temporárias nos sensores. Portanto, neste últimos mencionados, devemos fazer a interpolação para obtermos resultados melhores para treino.\n"
   ]
  },
  {
   "cell_type": "code",
   "execution_count": null,
   "metadata": {},
   "outputs": [],
   "source": [
    "dt.isna().sum()"
   ]
  },
  {
   "cell_type": "code",
   "execution_count": null,
   "metadata": {},
   "outputs": [],
   "source": [
    "(dt == 0).astype(int).sum(axis=0)"
   ]
  },
  {
   "cell_type": "code",
   "execution_count": null,
   "metadata": {},
   "outputs": [],
   "source": [
    "'''\n",
    "Radiação e precipitação devem ser colocados a zero porque NAN indica que não houve registo desses valores dado que eram 0\n",
    "'''\n",
    "dt['pth'].fillna(0,inplace=True)\n",
    "dt['rad'].fillna(0,inplace=True)"
   ]
  },
  {
   "cell_type": "code",
   "execution_count": null,
   "metadata": {},
   "outputs": [],
   "source": [
    "interpolate_columns = ['pah','pahmax','pahmin','dewh','dew','tempmax','tempmin','dewmax','dewmin','hummax','hummin','hum','windgra','windmax','wind']\n",
    "dt[interpolate_columns] = dt[interpolate_columns].interpolate('linear')"
   ]
  },
  {
   "cell_type": "code",
   "execution_count": null,
   "metadata": {},
   "outputs": [],
   "source": [
    "dt.isna().sum()"
   ]
  },
  {
   "cell_type": "code",
   "execution_count": null,
   "metadata": {},
   "outputs": [],
   "source": [
    "dt.drop_duplicates()"
   ]
  },
  {
   "cell_type": "markdown",
   "metadata": {},
   "source": [
    "#### Gráficos interessantes sobre os dados limpos\n",
    "\n",
    "Concluida a limpeza dos dados, podemos tentar visualizar alguns gráficos para termos alguma noção sobre as distribuições e vermos quais são os atributos mais importantes.\n",
    "\n"
   ]
  },
  {
   "cell_type": "code",
   "execution_count": null,
   "metadata": {},
   "outputs": [],
   "source": [
    "\n",
    "sns.distplot(dt['2016':]['pth'])"
   ]
  },
  {
   "cell_type": "code",
   "execution_count": null,
   "metadata": {},
   "outputs": [],
   "source": [
    "sns.heatmap(dt.corr())"
   ]
  },
  {
   "cell_type": "code",
   "execution_count": null,
   "metadata": {},
   "outputs": [],
   "source": [
    "fig, axs = plt.subplots(2,2, figsize =(10,20))\n",
    "\n",
    "sns.distplot(dt['2016':]['pah'],ax = axs[0,0], kde=True)\n",
    "sns.distplot(dt['2016':]['dewh'],ax = axs[0,1], kde=True)\n",
    "sns.distplot(dt['2016':]['dew'],ax = axs[1,0], kde=True)\n",
    "sns.distplot(dt['2016':]['hum'],ax = axs[1,1], kde=True)\n",
    "\n"
   ]
  },
  {
   "cell_type": "code",
   "execution_count": null,
   "metadata": {},
   "outputs": [],
   "source": [
    "subset = dt['2016':'2020']\n",
    "subset['mo'] = subset.index.month\n",
    "\n",
    "\n",
    "fig, ax = plt.subplots()\n",
    "sns.boxplot(x='mo',y='dewh',data=subset,ax=ax)\n",
    "plt.title('Temperatura durante 4 anos por mês')\n",
    "\n",
    "\n"
   ]
  },
  {
   "cell_type": "code",
   "execution_count": null,
   "metadata": {},
   "outputs": [],
   "source": [
    "sns.boxplot(x='mo',y='rad', data=subset)\n",
    "plt.title(\"Radiação durante 4 anos por mês\")"
   ]
  },
  {
   "cell_type": "code",
   "execution_count": null,
   "metadata": {},
   "outputs": [],
   "source": [
    "sns.boxplot(x=subset.state, y=\"dewh\", data=subset)\n",
    "plt.title(\"Temperatura por estado\")"
   ]
  },
  {
   "cell_type": "code",
   "execution_count": null,
   "metadata": {},
   "outputs": [],
   "source": [
    "x = dt['2016':].drop(['dewh'],axis=1)\n",
    "y = dt['2016':]['dewh'].to_frame()\n",
    "\n",
    "y.reset_index(drop=True,inplace=True)\n",
    "x.reset_index(drop=True,inplace=True)\n",
    "x.drop(['state','station_code','latitude','longitude','wind'],axis=1,inplace=True)\n",
    "x.head()"
   ]
  },
  {
   "cell_type": "code",
   "execution_count": null,
   "metadata": {},
   "outputs": [],
   "source": [
    "from sklearn.model_selection import train_test_split\n",
    "from sklearn.tree import DecisionTreeRegressor\n",
    "from sklearn.linear_model import LinearRegression\n",
    "\n",
    "\n",
    "X_train, X_test,y_train,y_test = train_test_split(x,y, test_size=0.3, random_state=2022)"
   ]
  },
  {
   "cell_type": "code",
   "execution_count": null,
   "metadata": {},
   "outputs": [],
   "source": [
    "sns.distplot(y_test)"
   ]
  },
  {
   "cell_type": "code",
   "execution_count": 12,
   "metadata": {},
   "outputs": [
    {
     "data": {
      "text/html": [
       "<style>#sk-container-id-1 {color: black;background-color: white;}#sk-container-id-1 pre{padding: 0;}#sk-container-id-1 div.sk-toggleable {background-color: white;}#sk-container-id-1 label.sk-toggleable__label {cursor: pointer;display: block;width: 100%;margin-bottom: 0;padding: 0.3em;box-sizing: border-box;text-align: center;}#sk-container-id-1 label.sk-toggleable__label-arrow:before {content: \"▸\";float: left;margin-right: 0.25em;color: #696969;}#sk-container-id-1 label.sk-toggleable__label-arrow:hover:before {color: black;}#sk-container-id-1 div.sk-estimator:hover label.sk-toggleable__label-arrow:before {color: black;}#sk-container-id-1 div.sk-toggleable__content {max-height: 0;max-width: 0;overflow: hidden;text-align: left;background-color: #f0f8ff;}#sk-container-id-1 div.sk-toggleable__content pre {margin: 0.2em;color: black;border-radius: 0.25em;background-color: #f0f8ff;}#sk-container-id-1 input.sk-toggleable__control:checked~div.sk-toggleable__content {max-height: 200px;max-width: 100%;overflow: auto;}#sk-container-id-1 input.sk-toggleable__control:checked~label.sk-toggleable__label-arrow:before {content: \"▾\";}#sk-container-id-1 div.sk-estimator input.sk-toggleable__control:checked~label.sk-toggleable__label {background-color: #d4ebff;}#sk-container-id-1 div.sk-label input.sk-toggleable__control:checked~label.sk-toggleable__label {background-color: #d4ebff;}#sk-container-id-1 input.sk-hidden--visually {border: 0;clip: rect(1px 1px 1px 1px);clip: rect(1px, 1px, 1px, 1px);height: 1px;margin: -1px;overflow: hidden;padding: 0;position: absolute;width: 1px;}#sk-container-id-1 div.sk-estimator {font-family: monospace;background-color: #f0f8ff;border: 1px dotted black;border-radius: 0.25em;box-sizing: border-box;margin-bottom: 0.5em;}#sk-container-id-1 div.sk-estimator:hover {background-color: #d4ebff;}#sk-container-id-1 div.sk-parallel-item::after {content: \"\";width: 100%;border-bottom: 1px solid gray;flex-grow: 1;}#sk-container-id-1 div.sk-label:hover label.sk-toggleable__label {background-color: #d4ebff;}#sk-container-id-1 div.sk-serial::before {content: \"\";position: absolute;border-left: 1px solid gray;box-sizing: border-box;top: 0;bottom: 0;left: 50%;z-index: 0;}#sk-container-id-1 div.sk-serial {display: flex;flex-direction: column;align-items: center;background-color: white;padding-right: 0.2em;padding-left: 0.2em;position: relative;}#sk-container-id-1 div.sk-item {position: relative;z-index: 1;}#sk-container-id-1 div.sk-parallel {display: flex;align-items: stretch;justify-content: center;background-color: white;position: relative;}#sk-container-id-1 div.sk-item::before, #sk-container-id-1 div.sk-parallel-item::before {content: \"\";position: absolute;border-left: 1px solid gray;box-sizing: border-box;top: 0;bottom: 0;left: 50%;z-index: -1;}#sk-container-id-1 div.sk-parallel-item {display: flex;flex-direction: column;z-index: 1;position: relative;background-color: white;}#sk-container-id-1 div.sk-parallel-item:first-child::after {align-self: flex-end;width: 50%;}#sk-container-id-1 div.sk-parallel-item:last-child::after {align-self: flex-start;width: 50%;}#sk-container-id-1 div.sk-parallel-item:only-child::after {width: 0;}#sk-container-id-1 div.sk-dashed-wrapped {border: 1px dashed gray;margin: 0 0.4em 0.5em 0.4em;box-sizing: border-box;padding-bottom: 0.4em;background-color: white;}#sk-container-id-1 div.sk-label label {font-family: monospace;font-weight: bold;display: inline-block;line-height: 1.2em;}#sk-container-id-1 div.sk-label-container {text-align: center;}#sk-container-id-1 div.sk-container {/* jupyter's `normalize.less` sets `[hidden] { display: none; }` but bootstrap.min.css set `[hidden] { display: none !important; }` so we also need the `!important` here to be able to override the default hidden behavior on the sphinx rendered scikit-learn.org. See: https://github.com/scikit-learn/scikit-learn/issues/21755 */display: inline-block !important;position: relative;}#sk-container-id-1 div.sk-text-repr-fallback {display: none;}</style><div id=\"sk-container-id-1\" class=\"sk-top-container\"><div class=\"sk-text-repr-fallback\"><pre>LinearRegression()</pre><b>In a Jupyter environment, please rerun this cell to show the HTML representation or trust the notebook. <br />On GitHub, the HTML representation is unable to render, please try loading this page with nbviewer.org.</b></div><div class=\"sk-container\" hidden><div class=\"sk-item\"><div class=\"sk-estimator sk-toggleable\"><input class=\"sk-toggleable__control sk-hidden--visually\" id=\"sk-estimator-id-1\" type=\"checkbox\" checked><label for=\"sk-estimator-id-1\" class=\"sk-toggleable__label sk-toggleable__label-arrow\">LinearRegression</label><div class=\"sk-toggleable__content\"><pre>LinearRegression()</pre></div></div></div></div></div>"
      ],
      "text/plain": [
       "LinearRegression()"
      ]
     },
     "execution_count": 12,
     "metadata": {},
     "output_type": "execute_result"
    }
   ],
   "source": [
    "lm = LinearRegression()\n",
    "lm.fit(X_train,y_train)"
   ]
  },
  {
   "cell_type": "code",
   "execution_count": 14,
   "metadata": {},
   "outputs": [
    {
     "data": {
      "text/plain": [
       "<matplotlib.collections.PathCollection at 0x2488b2dac80>"
      ]
     },
     "execution_count": 14,
     "metadata": {},
     "output_type": "execute_result"
    },
    {
     "data": {
      "image/png": "[encoded data removed]",
      "text/plain": [
       "<Figure size 640x480 with 1 Axes>"
      ]
     },
     "metadata": {},
     "output_type": "display_data"
    }
   ],
   "source": [
    "predictions = lm.predict(X_test)\n",
    "plt.scatter(y_test,predictions)"
   ]
  },
  {
   "cell_type": "code",
   "execution_count": 15,
   "metadata": {},
   "outputs": [
    {
     "name": "stdout",
     "output_type": "stream",
     "text": [
      "MSE 0.2304818761749938\n",
      "R2 0.9906978153454242\n"
     ]
    }
   ],
   "source": [
    "from sklearn import metrics\n",
    "print('MSE', metrics.mean_squared_error(y_test, predictions))\n",
    "print('R2', metrics.r2_score(y_test, predictions))\n"
   ]
  },
  {
   "cell_type": "code",
   "execution_count": null,
   "metadata": {},
   "outputs": [],
   "source": [
    "from sklearn.metrics import accuracy_score, mean_absolute_error, mean_squared_error\n",
    "from sklearn.model_selection import cross_val_score, cross_validate\n",
    "model = DecisionTreeRegressor(random_state=2022)\n"
   ]
  },
  {
   "cell_type": "code",
   "execution_count": 23,
   "metadata": {},
   "outputs": [],
   "source": [
    "model.fit(X_train,y_train)\n",
    "predictions = model.predict(X_test)"
   ]
  },
  {
   "cell_type": "code",
   "execution_count": 37,
   "metadata": {},
   "outputs": [
    {
     "name": "stdout",
     "output_type": "stream",
     "text": [
      "0.9889087471539254\n"
     ]
    }
   ],
   "source": [
    "scores = cross_val_score(model,x,y,cv=5,scoring='r2')\n",
    "print(scores.mean())"
   ]
  },
  {
   "cell_type": "code",
   "execution_count": null,
   "metadata": {},
   "outputs": [],
   "source": [
    "mean_squared_error(y_test, predictions,squared=True)"
   ]
  },
  {
   "cell_type": "code",
   "execution_count": null,
   "metadata": {},
   "outputs": [],
   "source": [
    "from sklearn.model_selection import GridSearchCV, ParameterGrid\n",
    "\n",
    "\n",
    "#mean_absolute_error(y_test, predictions)\n",
    "#mean_squared_error(y_test,predictions)\n",
    "gs = GridSearchCV(model, param_grid = ParameterGrid({'min_samples_split': [[min_samples_split] for min_samples_split in np.arange(0,1,0.025)]}),n_jobs=-1,cv=5,scoring='r2')\n",
    "gs.fit(X_train,y_train)\n",
    "\n",
    "\n"
   ]
  },
  {
   "cell_type": "code",
   "execution_count": null,
   "metadata": {},
   "outputs": [],
   "source": [
    "print(gs.best_score_)\n",
    "print(gs.best_params_)\n"
   ]
  },
  {
   "cell_type": "code",
   "execution_count": null,
   "metadata": {},
   "outputs": [],
   "source": [
    "from sklearn.model_selection import GridSearchCV, ParameterGrid\n",
    "\n",
    "\n",
    "#mean_absolute_error(y_test, predictions)\n",
    "#mean_squared_error(y_test,predictions)\n",
    "gssq = GridSearchCV(model, param_grid = ParameterGrid({'min_samples_split': [[min_samples_split] for min_samples_split in np.arange(0,1,0.025)]}),n_jobs=-1,cv=5,scoring='neg_mean_squared_error')\n",
    "gssq.fit(X_train,y_train)\n"
   ]
  },
  {
   "cell_type": "code",
   "execution_count": null,
   "metadata": {},
   "outputs": [],
   "source": [
    "print(gssq.best_score_)\n",
    "print(gssq.best_params_)"
   ]
  },
  {
   "cell_type": "code",
   "execution_count": null,
   "metadata": {},
   "outputs": [],
   "source": [
    "from sklearn.model_selection import GridSearchCV, ParameterGrid\n",
    "gs2 = GridSearchCV(model, param_grid = ParameterGrid({'min_samples_leaf': [[min_samples_split] for min_samples_split in np.arange(0.000001,0.5,0.025)]}),n_jobs=-1,cv=5,scoring='r2')"
   ]
  },
  {
   "cell_type": "code",
   "execution_count": null,
   "metadata": {},
   "outputs": [],
   "source": [
    "gs2.fit(X_train,y_train)"
   ]
  },
  {
   "cell_type": "code",
   "execution_count": null,
   "metadata": {},
   "outputs": [],
   "source": [
    "print(gs2.best_score_)\n",
    "print(gs2.best_params_)"
   ]
  },
  {
   "cell_type": "code",
   "execution_count": null,
   "metadata": {},
   "outputs": [],
   "source": [
    "best_model = DecisionTreeRegressor(random_state=2022, min_samples_split=0.025, min_samples_leaf=1e-06,max_depth=9)\n",
    "best_model.fit(X_train,y_train)\n",
    "predictions = best_model.predict(X_test)\n"
   ]
  },
  {
   "cell_type": "code",
   "execution_count": null,
   "metadata": {},
   "outputs": [],
   "source": [
    "from sklearn.metrics import r2_score, mean_squared_error\n",
    "\n",
    "\n",
    "#mean_squared_error(y_test, predictions,squared=True)\n",
    "r2_score(y_test,predictions)\n",
    "mean_squared_error(y_test,predictions,squared=True)\n"
   ]
  },
  {
   "cell_type": "code",
   "execution_count": null,
   "metadata": {},
   "outputs": [],
   "source": [
    "print(best_model.get_depth())"
   ]
  },
  {
   "cell_type": "code",
   "execution_count": null,
   "metadata": {},
   "outputs": [],
   "source": [
    "param_grid = { \n",
    "    'max_features': ['sqrt','log2'],\n",
    "    \"min_samples_split\": [2,3],\n",
    "    \"min_samples_leaf\": [1,2],\n",
    "}"
   ]
  },
  {
   "cell_type": "code",
   "execution_count": null,
   "metadata": {},
   "outputs": [],
   "source": [
    "from sklearn.model_selection import GridSearchCV, ParameterGrid\n",
    "\n",
    "\n",
    "#mean_absolute_error(y_test, predictions)\n",
    "#mean_squared_error(y_test,predictions)\n",
    "gs = GridSearchCV(model, param_grid = param_grid,n_jobs=-1,cv=5,scoring='r2')\n",
    "gs.fit(X_train,y_train)\n",
    "\n",
    "\n"
   ]
  },
  {
   "cell_type": "code",
   "execution_count": null,
   "metadata": {},
   "outputs": [],
   "source": [
    "print(gs.best_score_)\n",
    "print(gs.best_params_)\n"
   ]
  },
  {
   "cell_type": "code",
   "execution_count": 27,
   "metadata": {},
   "outputs": [
    {
     "data": {
      "text/html": [
       "<style>#sk-container-id-3 {color: black;background-color: white;}#sk-container-id-3 pre{padding: 0;}#sk-container-id-3 div.sk-toggleable {background-color: white;}#sk-container-id-3 label.sk-toggleable__label {cursor: pointer;display: block;width: 100%;margin-bottom: 0;padding: 0.3em;box-sizing: border-box;text-align: center;}#sk-container-id-3 label.sk-toggleable__label-arrow:before {content: \"▸\";float: left;margin-right: 0.25em;color: #696969;}#sk-container-id-3 label.sk-toggleable__label-arrow:hover:before {color: black;}#sk-container-id-3 div.sk-estimator:hover label.sk-toggleable__label-arrow:before {color: black;}#sk-container-id-3 div.sk-toggleable__content {max-height: 0;max-width: 0;overflow: hidden;text-align: left;background-color: #f0f8ff;}#sk-container-id-3 div.sk-toggleable__content pre {margin: 0.2em;color: black;border-radius: 0.25em;background-color: #f0f8ff;}#sk-container-id-3 input.sk-toggleable__control:checked~div.sk-toggleable__content {max-height: 200px;max-width: 100%;overflow: auto;}#sk-container-id-3 input.sk-toggleable__control:checked~label.sk-toggleable__label-arrow:before {content: \"▾\";}#sk-container-id-3 div.sk-estimator input.sk-toggleable__control:checked~label.sk-toggleable__label {background-color: #d4ebff;}#sk-container-id-3 div.sk-label input.sk-toggleable__control:checked~label.sk-toggleable__label {background-color: #d4ebff;}#sk-container-id-3 input.sk-hidden--visually {border: 0;clip: rect(1px 1px 1px 1px);clip: rect(1px, 1px, 1px, 1px);height: 1px;margin: -1px;overflow: hidden;padding: 0;position: absolute;width: 1px;}#sk-container-id-3 div.sk-estimator {font-family: monospace;background-color: #f0f8ff;border: 1px dotted black;border-radius: 0.25em;box-sizing: border-box;margin-bottom: 0.5em;}#sk-container-id-3 div.sk-estimator:hover {background-color: #d4ebff;}#sk-container-id-3 div.sk-parallel-item::after {content: \"\";width: 100%;border-bottom: 1px solid gray;flex-grow: 1;}#sk-container-id-3 div.sk-label:hover label.sk-toggleable__label {background-color: #d4ebff;}#sk-container-id-3 div.sk-serial::before {content: \"\";position: absolute;border-left: 1px solid gray;box-sizing: border-box;top: 0;bottom: 0;left: 50%;z-index: 0;}#sk-container-id-3 div.sk-serial {display: flex;flex-direction: column;align-items: center;background-color: white;padding-right: 0.2em;padding-left: 0.2em;position: relative;}#sk-container-id-3 div.sk-item {position: relative;z-index: 1;}#sk-container-id-3 div.sk-parallel {display: flex;align-items: stretch;justify-content: center;background-color: white;position: relative;}#sk-container-id-3 div.sk-item::before, #sk-container-id-3 div.sk-parallel-item::before {content: \"\";position: absolute;border-left: 1px solid gray;box-sizing: border-box;top: 0;bottom: 0;left: 50%;z-index: -1;}#sk-container-id-3 div.sk-parallel-item {display: flex;flex-direction: column;z-index: 1;position: relative;background-color: white;}#sk-container-id-3 div.sk-parallel-item:first-child::after {align-self: flex-end;width: 50%;}#sk-container-id-3 div.sk-parallel-item:last-child::after {align-self: flex-start;width: 50%;}#sk-container-id-3 div.sk-parallel-item:only-child::after {width: 0;}#sk-container-id-3 div.sk-dashed-wrapped {border: 1px dashed gray;margin: 0 0.4em 0.5em 0.4em;box-sizing: border-box;padding-bottom: 0.4em;background-color: white;}#sk-container-id-3 div.sk-label label {font-family: monospace;font-weight: bold;display: inline-block;line-height: 1.2em;}#sk-container-id-3 div.sk-label-container {text-align: center;}#sk-container-id-3 div.sk-container {/* jupyter's `normalize.less` sets `[hidden] { display: none; }` but bootstrap.min.css set `[hidden] { display: none !important; }` so we also need the `!important` here to be able to override the default hidden behavior on the sphinx rendered scikit-learn.org. See: https://github.com/scikit-learn/scikit-learn/issues/21755 */display: inline-block !important;position: relative;}#sk-container-id-3 div.sk-text-repr-fallback {display: none;}</style><div id=\"sk-container-id-3\" class=\"sk-top-container\"><div class=\"sk-text-repr-fallback\"><pre>GridSearchCV(cv=5, estimator=DecisionTreeRegressor(random_state=2022),\n",
       "             n_jobs=-1,\n",
       "             param_grid={&#x27;max_features&#x27;: [&#x27;sqrt&#x27;, &#x27;log2&#x27;],\n",
       "                         &#x27;min_samples_leaf&#x27;: [1, 2],\n",
       "                         &#x27;min_samples_split&#x27;: [2, 3]},\n",
       "             scoring=&#x27;neg_mean_squared_error&#x27;)</pre><b>In a Jupyter environment, please rerun this cell to show the HTML representation or trust the notebook. <br />On GitHub, the HTML representation is unable to render, please try loading this page with nbviewer.org.</b></div><div class=\"sk-container\" hidden><div class=\"sk-item sk-dashed-wrapped\"><div class=\"sk-label-container\"><div class=\"sk-label sk-toggleable\"><input class=\"sk-toggleable__control sk-hidden--visually\" id=\"sk-estimator-id-5\" type=\"checkbox\" ><label for=\"sk-estimator-id-5\" class=\"sk-toggleable__label sk-toggleable__label-arrow\">GridSearchCV</label><div class=\"sk-toggleable__content\"><pre>GridSearchCV(cv=5, estimator=DecisionTreeRegressor(random_state=2022),\n",
       "             n_jobs=-1,\n",
       "             param_grid={&#x27;max_features&#x27;: [&#x27;sqrt&#x27;, &#x27;log2&#x27;],\n",
       "                         &#x27;min_samples_leaf&#x27;: [1, 2],\n",
       "                         &#x27;min_samples_split&#x27;: [2, 3]},\n",
       "             scoring=&#x27;neg_mean_squared_error&#x27;)</pre></div></div></div><div class=\"sk-parallel\"><div class=\"sk-parallel-item\"><div class=\"sk-item\"><div class=\"sk-label-container\"><div class=\"sk-label sk-toggleable\"><input class=\"sk-toggleable__control sk-hidden--visually\" id=\"sk-estimator-id-6\" type=\"checkbox\" ><label for=\"sk-estimator-id-6\" class=\"sk-toggleable__label sk-toggleable__label-arrow\">estimator: DecisionTreeRegressor</label><div class=\"sk-toggleable__content\"><pre>DecisionTreeRegressor(random_state=2022)</pre></div></div></div><div class=\"sk-serial\"><div class=\"sk-item\"><div class=\"sk-estimator sk-toggleable\"><input class=\"sk-toggleable__control sk-hidden--visually\" id=\"sk-estimator-id-7\" type=\"checkbox\" ><label for=\"sk-estimator-id-7\" class=\"sk-toggleable__label sk-toggleable__label-arrow\">DecisionTreeRegressor</label><div class=\"sk-toggleable__content\"><pre>DecisionTreeRegressor(random_state=2022)</pre></div></div></div></div></div></div></div></div></div></div>"
      ],
      "text/plain": [
       "GridSearchCV(cv=5, estimator=DecisionTreeRegressor(random_state=2022),\n",
       "             n_jobs=-1,\n",
       "             param_grid={'max_features': ['sqrt', 'log2'],\n",
       "                         'min_samples_leaf': [1, 2],\n",
       "                         'min_samples_split': [2, 3]},\n",
       "             scoring='neg_mean_squared_error')"
      ]
     },
     "execution_count": 27,
     "metadata": {},
     "output_type": "execute_result"
    }
   ],
   "source": [
    "from sklearn.model_selection import GridSearchCV, ParameterGrid\n",
    "\n",
    "\n",
    "#mean_absolute_error(y_test, predictions)\n",
    "#mean_squared_error(y_test,predictions)\n",
    "gssq = GridSearchCV(model, param_grid = param_grid,n_jobs=-1,cv=5,scoring='neg_mean_squared_error')\n",
    "gssq.fit(X_train,y_train)\n"
   ]
  },
  {
   "cell_type": "code",
   "execution_count": 31,
   "metadata": {},
   "outputs": [
    {
     "name": "stdout",
     "output_type": "stream",
     "text": [
      "-0.16913583817094466\n",
      "{'max_features': 'sqrt', 'min_samples_leaf': 2, 'min_samples_split': 2}\n"
     ]
    }
   ],
   "source": [
    "print(gssq.best_score_)\n",
    "print(gssq.best_params_)"
   ]
  },
  {
   "cell_type": "code",
   "execution_count": 32,
   "metadata": {},
   "outputs": [],
   "source": [
    "best_model = DecisionTreeRegressor(random_state=2022, min_samples_split=2, min_samples_leaf=2,max_features= 'sqrt')\n",
    "best_model.fit(X_train,y_train)\n",
    "predictions = best_model.predict(X_test)\n"
   ]
  },
  {
   "cell_type": "code",
   "execution_count": 34,
   "metadata": {},
   "outputs": [
    {
     "name": "stdout",
     "output_type": "stream",
     "text": [
      "MSE 0.17994818700786575\n",
      "R2 0.992737341037035\n"
     ]
    }
   ],
   "source": [
    "from sklearn.metrics import r2_score, mean_squared_error\n",
    "\n",
    "\n",
    "#mean_squared_error(y_test, predictions,squared=True)\n",
    "print('MSE', metrics.mean_squared_error(y_test, predictions))\n",
    "print('R2', metrics.r2_score(y_test, predictions))\n"
   ]
  },
  {
   "cell_type": "code",
   "execution_count": 35,
   "metadata": {},
   "outputs": [
    {
     "name": "stdout",
     "output_type": "stream",
     "text": [
      "62\n"
     ]
    }
   ],
   "source": [
    "print(best_model.get_depth())"
   ]
  }
 ],
 "metadata": {
  "kernelspec": {
   "display_name": "Python 3.10.8 ('env': venv)",
   "language": "python",
   "name": "python3"
  },
  "language_info": {
   "codemirror_mode": {
    "name": "ipython",
    "version": 3
   },
   "file_extension": ".py",
   "mimetype": "text/x-python",
   "name": "python",
   "nbconvert_exporter": "python",
   "pygments_lexer": "ipython3",
   "version": "3.10.9 (main, Dec 19 2022, 17:35:49) [GCC 12.2.0]"
  },
  "orig_nbformat": 4,
  "vscode": {
   "interpreter": {
    "hash": "f38a6f7af31059cb278b68a7ffe15ecb6aead802a5772831d896a5e54af9aa47"
   }
  }
 },
 "nbformat": 4,
 "nbformat_minor": 2
}
